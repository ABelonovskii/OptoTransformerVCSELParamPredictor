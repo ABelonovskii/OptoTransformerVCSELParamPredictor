{
 "cells": [
  {
   "cell_type": "markdown",
   "source": [
    "# VCSEL Data Analysis with OptoTransformer\n",
    "## Histogram Construction and Data Distribution Analysis\n",
    "\n",
    "In this notebook, we will analyze VCSEL data using OptoTransformer.\n",
    "\n",
    "### Main Objectives\n",
    "1. **Loading and Preparing Data**:\n",
    "   - Load data from a database or file.\n",
    "   - Preprocess data and bring it to the required format.\n",
    "\n",
    "2. **Histogram Construction**:\n",
    "   - Construct histograms of **EIGEN_ENERGY_1**, **EIGEN_ENERGY_2**, **Q**, and **TMG**  parameters.\n",
    "   - Analyze main trends in the distribution."
   ],
   "metadata": {
    "collapsed": false,
    "pycharm": {
     "name": "#%% md\n"
    }
   }
  },
  {
   "cell_type": "code",
   "source": [
    "import os\n",
    "import yaml\n",
    "import logging\n",
    "import argparse\n",
    "from argparse import Namespace\n",
    "from src.utils.logging_config import setup_logging, log_config, log_model_params\n",
    "from scripts.setup_utils import check_paths, validate_config, validate_model_params, default_model_type\n",
    "from src.constants import EIGEN_ENERGY, QUALITY_FACTOR, THRESHOLD_GAIN\n",
    "from src.models.create_model import create_model\n",
    "from src.data.data_processing import process_data\n",
    "from src.data.data_loader import load_data\n",
    "from sklearn.model_selection import train_test_split\n",
    "from src.data.vcsel_dataset import VCSELDataset\n",
    "from src.training.train_model import train_model\n",
    "from src.training.train_model_k_fold import train_model_k_fold\n",
    "from src.training.test_model import test_model\n",
    "from src.predict.predict import load_prediction_samples, predict"
   ],
   "metadata": {
    "collapsed": false,
    "pycharm": {
     "name": "#%%\n"
    }
   },
   "outputs": [],
   "execution_count": null
  },
  {
   "cell_type": "code",
   "source": [
    "os.chdir('..')\n",
    "original_dir = os.getcwd()\n",
    "print(f\"Original Working Directory: {original_dir}\")"
   ],
   "metadata": {
    "collapsed": false,
    "pycharm": {
     "name": "#%%\n"
    }
   },
   "outputs": [],
   "execution_count": null
  },
  {
   "cell_type": "markdown",
   "source": [
    "# SINGLE LAYER"
   ],
   "metadata": {
    "collapsed": false,
    "pycharm": {
     "name": "#%% md\n"
    }
   }
  },
  {
   "cell_type": "markdown",
   "source": [
    "## Plot distribution of output energies"
   ],
   "metadata": {
    "collapsed": false,
    "pycharm": {
     "name": "#%% md\n"
    }
   }
  },
  {
   "cell_type": "code",
   "source": [
    "with open(\"config_single.yaml\", 'r') as file:\n",
    "    config = yaml.safe_load(file)\n",
    "\n",
    "args = Namespace(\n",
    "    train=config['runtime']['train'],\n",
    "    predict=config['runtime']['predict'],\n",
    "    load_weights=config['runtime']['load_weights'],\n",
    "\n",
    "    data_path=config['data']['path'],\n",
    "    model_path=config['model']['params_path'],\n",
    "    weight_path=config['model']['weight_path'],\n",
    "\n",
    "    predictions_dir=config['predictions']['directory'],\n",
    "    samples_file=config['predictions']['samples_file'],\n",
    "\n",
    "    batch_size=config['training']['batch_size'],\n",
    "    num_epochs=config['training']['num_epochs'],\n",
    "    learning_rate=config['training']['learning_rate'],\n",
    "    use_scheduler=config['training']['use_scheduler'],\n",
    "    scheduler_factor=config['training']['scheduler_params']['factor'],\n",
    "    scheduler_patience=config['training']['scheduler_params']['patience'],\n",
    "    model_type=\"eigen_energy\"\n",
    ")"
   ],
   "metadata": {
    "collapsed": false,
    "pycharm": {
     "name": "#%%\n"
    }
   },
   "outputs": [],
   "execution_count": null
  },
  {
   "cell_type": "code",
   "source": [
    "data = load_data(args.data_path, args.model_type)\n",
    "train_data, evaluate_data = train_test_split(data, test_size=0.1, random_state=42)\n",
    "train_data, validate_data = train_test_split(train_data, test_size=0.1, random_state=42)\n",
    "\n",
    "train_data = process_data(train_data, args.model_path, args.model_type, is_train=True)\n",
    "train_dataset = VCSELDataset(train_data)\n",
    "\n",
    "validate_data = process_data(validate_data, args.model_path, args.model_type, is_validate=True)\n",
    "validate_dataset = VCSELDataset(validate_data)\n",
    "\n",
    "evaluate_data = process_data(evaluate_data, args.model_path, args.model_type, is_test=True)\n",
    "evaluate_dataset = VCSELDataset(evaluate_data)"
   ],
   "metadata": {
    "collapsed": false,
    "pycharm": {
     "name": "#%%\n"
    }
   },
   "outputs": [],
   "execution_count": null
  },
  {
   "cell_type": "code",
   "source": [
    "train_eigen_energy_1 = [output[\"output_tokens\"][0].item() * 10 for output in train_dataset]\n",
    "train_eigen_energy_2 = [output[\"output_tokens\"][1].item() * 10 for output in train_dataset]\n",
    "\n",
    "validate_eigen_energy_1 = [output[\"output_tokens\"][0].item() * 10 for output in validate_dataset]\n",
    "validate_eigen_energy_2 = [output[\"output_tokens\"][1].item() * 10 for output in validate_dataset]\n",
    "\n",
    "evaluate_eigen_energy_1 = [output[\"output_tokens\"][0].item() * 10 for output in evaluate_dataset]\n",
    "evaluate_eigen_energy_2 = [output[\"output_tokens\"][1].item() * 10 for output in evaluate_dataset]\n",
    "\n",
    "# Combine train, validate и evaluate\n",
    "combined_eigen_energy_1 = train_eigen_energy_1 + validate_eigen_energy_1 + evaluate_eigen_energy_1\n",
    "combined_eigen_energy_2 = train_eigen_energy_2 + validate_eigen_energy_2 + evaluate_eigen_energy_2\n",
    "\n",
    "with open('SINGLE_eigen_energy_1.txt', 'w') as file1:\n",
    "    for energy in combined_eigen_energy_1:\n",
    "        file1.write(f\"{energy}\\n\")\n",
    "\n",
    "with open('SINGLE_eigen_energy_2.txt', 'w') as file2:\n",
    "    for energy in combined_eigen_energy_2:\n",
    "        file2.write(f\"{energy}\\n\")\n"
   ],
   "metadata": {
    "collapsed": false,
    "pycharm": {
     "name": "#%%\n"
    }
   },
   "outputs": [],
   "execution_count": null
  },
  {
   "cell_type": "code",
   "source": [
    "import matplotlib.pyplot as plt\n",
    "%matplotlib inline\n",
    "\n",
    "def plot_distribution(dataset):\n",
    "\n",
    "    eigen_energy_1 = [output[\"output_tokens\"][0].item() * 10 for output in dataset]\n",
    "    eigen_energy_2 = [output[\"output_tokens\"][1].item() * 10 for output in dataset]\n",
    "\n",
    "    plt.figure(figsize=(10, 5))\n",
    "\n",
    "    plt.subplot(1, 2, 1)\n",
    "    plt.hist(eigen_energy_1, bins=20, alpha=0.7)\n",
    "    plt.title(\"Distribution of EIGEN_ENERGY_1\")\n",
    "    plt.xlabel(\"Energy, eV\")\n",
    "    plt.ylabel(\"Frequency\")\n",
    "\n",
    "    plt.subplot(1, 2, 2)\n",
    "    plt.hist(eigen_energy_2, bins=20, alpha=0.7)\n",
    "    plt.title(\"Distribution of EIGEN_ENERGY_2\")\n",
    "    plt.xlabel(\"Energy, eV\")\n",
    "    plt.ylabel(\"Frequency\")\n",
    "\n",
    "    plt.tight_layout()\n",
    "    plt.show()"
   ],
   "metadata": {
    "collapsed": false,
    "pycharm": {
     "name": "#%%\n"
    }
   },
   "outputs": [],
   "execution_count": null
  },
  {
   "cell_type": "markdown",
   "source": [
    "### Distributin for Datasets"
   ],
   "metadata": {
    "collapsed": false,
    "pycharm": {
     "name": "#%% md\n"
    }
   }
  },
  {
   "cell_type": "code",
   "source": [
    "plot_distribution(train_dataset)\n",
    "plot_distribution(validate_dataset)\n",
    "plot_distribution(evaluate_dataset)"
   ],
   "metadata": {
    "collapsed": false,
    "pycharm": {
     "name": "#%%\n"
    }
   },
   "outputs": [],
   "execution_count": null
  },
  {
   "cell_type": "markdown",
   "source": [
    "## Plot distribution of output Quality Factor"
   ],
   "metadata": {
    "collapsed": false,
    "pycharm": {
     "name": "#%% md\n"
    }
   }
  },
  {
   "cell_type": "code",
   "source": [
    "with open(\"config_single.yaml\", 'r') as file:\n",
    "    config = yaml.safe_load(file)\n",
    "\n",
    "args = Namespace(\n",
    "    train=config['runtime']['train'],\n",
    "    predict=config['runtime']['predict'],\n",
    "    load_weights=config['runtime']['load_weights'],\n",
    "\n",
    "    data_path=config['data']['path'],\n",
    "    model_path=config['model']['params_path'],\n",
    "    weight_path=config['model']['weight_path'],\n",
    "\n",
    "    predictions_dir=config['predictions']['directory'],\n",
    "    samples_file=config['predictions']['samples_file'],\n",
    "\n",
    "    batch_size=config['training']['batch_size'],\n",
    "    num_epochs=config['training']['num_epochs'],\n",
    "    learning_rate=config['training']['learning_rate'],\n",
    "    use_scheduler=config['training']['use_scheduler'],\n",
    "    scheduler_factor=config['training']['scheduler_params']['factor'],\n",
    "    scheduler_patience=config['training']['scheduler_params']['patience'],\n",
    "    model_type=\"quality_factor\"\n",
    ")"
   ],
   "metadata": {
    "collapsed": false,
    "pycharm": {
     "name": "#%%\n"
    }
   },
   "outputs": [],
   "execution_count": null
  },
  {
   "cell_type": "code",
   "source": [
    "data = load_data(args.data_path, args.model_type)\n",
    "train_data, evaluate_data = train_test_split(data, test_size=0.1, random_state=42)\n",
    "train_data, validate_data = train_test_split(train_data, test_size=0.1, random_state=42)\n",
    "\n",
    "train_data = process_data(train_data, args.model_path, args.model_type, is_train=True)\n",
    "train_dataset = VCSELDataset(train_data)\n",
    "\n",
    "validate_data = process_data(validate_data, args.model_path, args.model_type, is_validate=True)\n",
    "validate_dataset = VCSELDataset(validate_data)\n",
    "\n",
    "evaluate_data = process_data(evaluate_data, args.model_path, args.model_type, is_test=True)\n",
    "evaluate_dataset = VCSELDataset(evaluate_data)"
   ],
   "metadata": {
    "collapsed": false,
    "pycharm": {
     "name": "#%%\n"
    }
   },
   "outputs": [],
   "execution_count": null
  },
  {
   "cell_type": "code",
   "source": [
    "from src.data.utilities import log_denormalize\n",
    "train_quality_factor = [log_denormalize(output[\"output_tokens\"].item()) for output in train_dataset]\n",
    "\n",
    "validate_quality_factor = [log_denormalize(output[\"output_tokens\"].item()) for output in validate_dataset]\n",
    "\n",
    "evaluate_quality_factor = [log_denormalize(output[\"output_tokens\"].item()) for output in evaluate_dataset]\n",
    "\n",
    "# Combine train, validate и evaluate\n",
    "combined_quality_factor = train_quality_factor + validate_quality_factor + evaluate_quality_factor\n",
    "\n",
    "\n",
    "with open('SINGLE_quality_factor.txt', 'w') as file1:\n",
    "    for energy in combined_quality_factor:\n",
    "        file1.write(f\"{energy}\\n\")\n"
   ],
   "metadata": {
    "collapsed": false,
    "pycharm": {
     "name": "#%%\n"
    }
   },
   "outputs": [],
   "execution_count": null
  },
  {
   "cell_type": "code",
   "source": [
    "import matplotlib.pyplot as plt\n",
    "%matplotlib inline\n",
    "from src.data.utilities import log_denormalize\n",
    "\n",
    "def plot_distribution(dataset, title):\n",
    "\n",
    "    quality_factor = [log_denormalize(output[\"output_tokens\"].item()) for output in dataset]\n",
    "\n",
    "    plt.figure(figsize=(10, 5))\n",
    "\n",
    "    plt.hist(quality_factor, bins=35, alpha=0.7)\n",
    "    plt.title(f\"Distribution of Quality Factor for {title} dataset\")\n",
    "    plt.xlabel(\"Q\")\n",
    "    plt.ylabel(\"Frequency\")\n"
   ],
   "metadata": {
    "collapsed": false,
    "pycharm": {
     "name": "#%%\n"
    }
   },
   "outputs": [],
   "execution_count": null
  },
  {
   "cell_type": "markdown",
   "source": [
    "### Distributin for datasets"
   ],
   "metadata": {
    "collapsed": false,
    "pycharm": {
     "name": "#%% md\n"
    }
   }
  },
  {
   "cell_type": "code",
   "source": [
    "plot_distribution(train_dataset, \"train\")\n",
    "plot_distribution(validate_dataset, \"validate\")\n",
    "plot_distribution(evaluate_dataset, \"test\")"
   ],
   "metadata": {
    "collapsed": false,
    "pycharm": {
     "name": "#%%\n"
    }
   },
   "outputs": [],
   "execution_count": null
  },
  {
   "cell_type": "code",
   "source": [
    "import matplotlib.pyplot as plt\n",
    "import numpy as np\n",
    "from src.data.utilities import log_denormalize\n",
    "\n",
    "%matplotlib inline\n",
    "\n",
    "def plot_log_distribution(dataset, title):\n",
    "\n",
    "    quality_factor = [log_denormalize(output[\"output_tokens\"].item()) for output in dataset]\n",
    "    log_quality_factor = np.log10(quality_factor)\n",
    "    plt.figure(figsize=(10, 5))\n",
    "    print(min(log_quality_factor))\n",
    "    print(max(log_quality_factor))\n",
    "    plt.hist(log_quality_factor, bins=35, alpha=0.7)\n",
    "    plt.title(f\"Distribution of log of Quality Factor for {title} dataset\")\n",
    "    plt.xlabel(\"Q\")\n",
    "    plt.ylabel(\"Frequency\")"
   ],
   "metadata": {
    "collapsed": false,
    "pycharm": {
     "name": "#%%\n"
    }
   },
   "outputs": [],
   "execution_count": null
  },
  {
   "cell_type": "markdown",
   "source": [
    "### Distributin for log datasets"
   ],
   "metadata": {
    "collapsed": false,
    "pycharm": {
     "name": "#%% md\n"
    }
   }
  },
  {
   "cell_type": "code",
   "source": [
    "plot_log_distribution(train_dataset, \"train\")\n",
    "plot_log_distribution(validate_dataset, \"validate\")\n",
    "plot_log_distribution(evaluate_dataset, \"test\")"
   ],
   "metadata": {
    "collapsed": false,
    "pycharm": {
     "name": "#%%\n"
    }
   },
   "outputs": [],
   "execution_count": null
  },
  {
   "cell_type": "markdown",
   "source": [
    "# Plot distribution of output Threshold Material Gain"
   ],
   "metadata": {
    "collapsed": false,
    "pycharm": {
     "name": "#%% md\n"
    }
   }
  },
  {
   "cell_type": "code",
   "source": [
    "with open(\"config_single.yaml\", 'r') as file:\n",
    "    config = yaml.safe_load(file)\n",
    "\n",
    "args = Namespace(\n",
    "    train=config['runtime']['train'],\n",
    "    predict=config['runtime']['predict'],\n",
    "    load_weights=config['runtime']['load_weights'],\n",
    "\n",
    "    data_path=config['data']['path'],\n",
    "    model_path=config['model']['params_path'],\n",
    "    weight_path=config['model']['weight_path'],\n",
    "\n",
    "    predictions_dir=config['predictions']['directory'],\n",
    "    samples_file=config['predictions']['samples_file'],\n",
    "\n",
    "    batch_size=config['training']['batch_size'],\n",
    "    num_epochs=config['training']['num_epochs'],\n",
    "    learning_rate=config['training']['learning_rate'],\n",
    "    use_scheduler=config['training']['use_scheduler'],\n",
    "    scheduler_factor=config['training']['scheduler_params']['factor'],\n",
    "    scheduler_patience=config['training']['scheduler_params']['patience'],\n",
    "    model_type=\"threshold_material_gain\"\n",
    ")"
   ],
   "metadata": {
    "collapsed": false,
    "pycharm": {
     "name": "#%%\n"
    }
   },
   "outputs": [],
   "execution_count": null
  },
  {
   "cell_type": "code",
   "source": [
    "data = load_data(args.data_path, args.model_type)\n",
    "train_data, evaluate_data = train_test_split(data, test_size=0.1, random_state=42)\n",
    "train_data, validate_data = train_test_split(train_data, test_size=0.1, random_state=42)\n",
    "\n",
    "train_data = process_data(train_data, args.model_path, args.model_type, is_train=True)\n",
    "train_dataset = VCSELDataset(train_data)\n",
    "\n",
    "validate_data = process_data(validate_data, args.model_path, args.model_type, is_validate=True)\n",
    "validate_dataset = VCSELDataset(validate_data)\n",
    "\n",
    "evaluate_data = process_data(evaluate_data, args.model_path, args.model_type, is_test=True)\n",
    "evaluate_dataset = VCSELDataset(evaluate_data)"
   ],
   "metadata": {
    "collapsed": false,
    "pycharm": {
     "name": "#%%\n"
    }
   },
   "outputs": [],
   "execution_count": null
  },
  {
   "cell_type": "code",
   "source": [
    "from src.data.utilities import convert_k_to_gain\n",
    "\n",
    "train_eigen_energy_1 = [output[\"output_tokens\"][0].item() * 10 for output in train_dataset]\n",
    "train_k = [output[\"output_tokens\"][1].item() for output in train_dataset]\n",
    "train_gain = [-1*convert_k_to_gain(e, k_val) for e, k_val in zip(train_eigen_energy_1, train_k)]\n",
    "\n",
    "validate_eigen_energy_1 = [output[\"output_tokens\"][0].item() * 10 for output in validate_dataset]\n",
    "validate_k = [output[\"output_tokens\"][1].item() for output in validate_dataset]\n",
    "validate_gain = [-1*convert_k_to_gain(e, k_val) for e, k_val in zip(validate_eigen_energy_1, validate_k)]\n",
    "\n",
    "evaluate_eigen_energy_1 = [output[\"output_tokens\"][0].item() * 10 for output in evaluate_dataset]\n",
    "evaluate_k = [output[\"output_tokens\"][1].item() for output in evaluate_dataset]\n",
    "evaluate_gain = [-1*convert_k_to_gain(e, k_val) for e, k_val in zip(evaluate_eigen_energy_1, evaluate_k)]\n",
    "\n",
    "# Combine train, validate и evaluate\n",
    "combined_eigen_energy_1 = train_eigen_energy_1 + validate_eigen_energy_1 + evaluate_eigen_energy_1\n",
    "combined_gain = train_gain + validate_gain + evaluate_gain\n",
    "\n",
    "with open('SINGLE_eigen_energy.txt', 'w') as file1:\n",
    "    for energy in combined_eigen_energy_1:\n",
    "        file1.write(f\"{energy}\\n\")\n",
    "\n",
    "with open('SINGLE_gain.txt', 'w') as file2:\n",
    "    for energy in combined_gain:\n",
    "        file2.write(f\"{energy}\\n\")"
   ],
   "metadata": {
    "collapsed": false,
    "pycharm": {
     "name": "#%%\n"
    }
   },
   "outputs": [],
   "execution_count": null
  },
  {
   "cell_type": "code",
   "source": [
    "import matplotlib.pyplot as plt\n",
    "%matplotlib inline\n",
    "\n",
    "def plot_distribution(dataset, title):\n",
    "\n",
    "    eigen_energy_1 = [output[\"output_tokens\"][0].item() * 10 for output in dataset]\n",
    "    k = [output[\"output_tokens\"][1].item() for output in dataset]\n",
    "\n",
    "    plt.figure(figsize=(10, 5))\n",
    "\n",
    "    plt.subplot(1, 2, 1)\n",
    "    plt.hist(eigen_energy_1, bins=20, alpha=0.7)\n",
    "    plt.title(\"Distribution of Energy\")\n",
    "    plt.xlabel(\"Energy, eV\")\n",
    "    plt.ylabel(\"Frequency\")\n",
    "\n",
    "    plt.subplot(1, 2, 2)\n",
    "    plt.hist(k, bins=20, alpha=0.7)\n",
    "    plt.title(f\"Distribution of Threshold Material Gain for {title} dataset\")\n",
    "    plt.xlabel(\"k\")\n",
    "    plt.ylabel(\"Frequency\")\n",
    "\n",
    "    plt.tight_layout()\n",
    "    plt.show()\n"
   ],
   "metadata": {
    "collapsed": false,
    "pycharm": {
     "name": "#%%\n"
    }
   },
   "outputs": [],
   "execution_count": null
  },
  {
   "cell_type": "markdown",
   "source": [
    "### Distributin for datasets"
   ],
   "metadata": {
    "collapsed": false,
    "pycharm": {
     "name": "#%% md\n"
    }
   }
  },
  {
   "cell_type": "code",
   "source": [
    "plot_distribution(train_dataset, \"train\")\n",
    "plot_distribution(validate_dataset, \"validate\")\n",
    "plot_distribution(evaluate_dataset, \"test\")"
   ],
   "metadata": {
    "collapsed": false,
    "pycharm": {
     "name": "#%%\n"
    }
   },
   "outputs": [],
   "execution_count": null
  },
  {
   "cell_type": "markdown",
   "source": [
    "### Distributin for datasets for gain in sm^-1"
   ],
   "metadata": {
    "collapsed": false,
    "pycharm": {
     "name": "#%% md\n"
    }
   }
  },
  {
   "cell_type": "code",
   "source": [
    "import matplotlib.pyplot as plt\n",
    "from src.data.utilities import convert_k_to_gain\n",
    "%matplotlib inline\n",
    "\n",
    "\n",
    "def plot_distribution_gain_case(dataset, title):\n",
    "\n",
    "    eigen_energy_1 = [output[\"output_tokens\"][0].item() * 10 for output in dataset]\n",
    "    k = [output[\"output_tokens\"][1].item() for output in dataset]\n",
    "    gain = [-1*convert_k_to_gain(e, k_val) for e, k_val in zip(eigen_energy_1, k)]\n",
    "\n",
    "    plt.figure(figsize=(10, 5))\n",
    "\n",
    "    plt.subplot(1, 2, 1)\n",
    "    plt.hist(eigen_energy_1, bins=20, alpha=0.7)\n",
    "    plt.title(\"Distribution of Energy\")\n",
    "    plt.xlabel(\"Energy, eV\")\n",
    "    plt.ylabel(\"Frequency\")\n",
    "\n",
    "    plt.subplot(1, 2, 2)\n",
    "    plt.hist(gain, bins=20, alpha=0.7)\n",
    "    plt.title(f\"Distribution of Threshold Material Gain for {title} dataset\")\n",
    "    plt.xlabel(\"Gain, $cm^{-1}$\")\n",
    "    plt.ylabel(\"Frequency\")\n",
    "\n",
    "    plt.tight_layout()\n",
    "    plt.show()\n",
    "\n"
   ],
   "metadata": {
    "collapsed": false,
    "pycharm": {
     "name": "#%%\n"
    }
   },
   "outputs": [],
   "execution_count": null
  },
  {
   "cell_type": "markdown",
   "source": [
    "### Distributin for datasets"
   ],
   "metadata": {
    "collapsed": false,
    "pycharm": {
     "name": "#%% md\n"
    }
   }
  },
  {
   "cell_type": "code",
   "source": [
    "plot_distribution_gain_case(train_dataset, \"train\")\n",
    "plot_distribution_gain_case(validate_dataset, \"validate\")\n",
    "plot_distribution_gain_case(evaluate_dataset, \"test\")"
   ],
   "metadata": {
    "collapsed": false,
    "pycharm": {
     "name": "#%%\n"
    }
   },
   "outputs": [],
   "execution_count": null
  },
  {
   "cell_type": "markdown",
   "source": [
    "# DBR"
   ],
   "metadata": {
    "collapsed": false,
    "pycharm": {
     "name": "#%% md\n"
    }
   }
  },
  {
   "cell_type": "markdown",
   "source": [
    "## Plot distribution of output energies"
   ],
   "metadata": {
    "collapsed": false,
    "pycharm": {
     "name": "#%% md\n"
    }
   }
  },
  {
   "cell_type": "code",
   "source": [
    "with open(\"config_DBR.yaml\", 'r') as file:\n",
    "    config = yaml.safe_load(file)\n",
    "\n",
    "args = Namespace(\n",
    "    train=config['runtime']['train'],\n",
    "    predict=config['runtime']['predict'],\n",
    "    load_weights=config['runtime']['load_weights'],\n",
    "\n",
    "    data_path=config['data']['path'],\n",
    "    model_path=config['model']['params_path'],\n",
    "    weight_path=config['model']['weight_path'],\n",
    "\n",
    "    predictions_dir=config['predictions']['directory'],\n",
    "    samples_file=config['predictions']['samples_file'],\n",
    "\n",
    "    batch_size=config['training']['batch_size'],\n",
    "    num_epochs=config['training']['num_epochs'],\n",
    "    learning_rate=config['training']['learning_rate'],\n",
    "    use_scheduler=config['training']['use_scheduler'],\n",
    "    scheduler_factor=config['training']['scheduler_params']['factor'],\n",
    "    scheduler_patience=config['training']['scheduler_params']['patience'],\n",
    "    model_type=\"eigen_energy\"\n",
    ")"
   ],
   "metadata": {
    "collapsed": false,
    "pycharm": {
     "name": "#%%\n"
    }
   },
   "outputs": [],
   "execution_count": null
  },
  {
   "cell_type": "code",
   "source": [
    "data = load_data(args.data_path, args.model_type)\n",
    "train_data, evaluate_data = train_test_split(data, test_size=0.1, random_state=42)\n",
    "train_data, validate_data = train_test_split(train_data, test_size=0.1, random_state=42)\n",
    "\n",
    "train_data = process_data(train_data, args.model_path, args.model_type, is_train=True)\n",
    "train_dataset = VCSELDataset(train_data)\n",
    "\n",
    "validate_data = process_data(validate_data, args.model_path, args.model_type, is_validate=True)\n",
    "validate_dataset = VCSELDataset(validate_data)\n",
    "\n",
    "evaluate_data = process_data(evaluate_data, args.model_path, args.model_type, is_test=True)\n",
    "evaluate_dataset = VCSELDataset(evaluate_data)"
   ],
   "metadata": {
    "collapsed": false,
    "pycharm": {
     "name": "#%%\n"
    }
   },
   "outputs": [],
   "execution_count": null
  },
  {
   "cell_type": "code",
   "source": [
    "train_eigen_energy_1 = [output[\"output_tokens\"][0].item() * 10 for output in train_dataset]\n",
    "train_eigen_energy_2 = [output[\"output_tokens\"][1].item() * 10 for output in train_dataset]\n",
    "\n",
    "validate_eigen_energy_1 = [output[\"output_tokens\"][0].item() * 10 for output in validate_dataset]\n",
    "validate_eigen_energy_2 = [output[\"output_tokens\"][1].item() * 10 for output in validate_dataset]\n",
    "\n",
    "evaluate_eigen_energy_1 = [output[\"output_tokens\"][0].item() * 10 for output in evaluate_dataset]\n",
    "evaluate_eigen_energy_2 = [output[\"output_tokens\"][1].item() * 10 for output in evaluate_dataset]\n",
    "\n",
    "# Combine train, validate и evaluate\n",
    "combined_eigen_energy_1 = train_eigen_energy_1 + validate_eigen_energy_1 + evaluate_eigen_energy_1\n",
    "combined_eigen_energy_2 = train_eigen_energy_2 + validate_eigen_energy_2 + evaluate_eigen_energy_2\n",
    "\n",
    "with open('DBR_eigen_energy_1.txt', 'w') as file1:\n",
    "    for energy in combined_eigen_energy_1:\n",
    "        file1.write(f\"{energy}\\n\")\n",
    "\n",
    "with open('DBR_eigen_energy_2.txt', 'w') as file2:\n",
    "    for energy in combined_eigen_energy_2:\n",
    "        file2.write(f\"{energy}\\n\")\n"
   ],
   "metadata": {
    "collapsed": false,
    "pycharm": {
     "name": "#%%\n"
    }
   },
   "outputs": [],
   "execution_count": null
  },
  {
   "cell_type": "code",
   "source": [
    "import matplotlib.pyplot as plt\n",
    "%matplotlib inline\n",
    "\n",
    "def plot_distribution(dataset):\n",
    "\n",
    "    eigen_energy_1 = [output[\"output_tokens\"][0].item() * 10 for output in dataset]\n",
    "    eigen_energy_2 = [output[\"output_tokens\"][1].item() * 10 for output in dataset]\n",
    "\n",
    "    plt.figure(figsize=(10, 5))\n",
    "\n",
    "    plt.subplot(1, 2, 1)\n",
    "    plt.hist(eigen_energy_1, bins=20, alpha=0.7)\n",
    "    plt.title(\"Distribution of EIGEN_ENERGY_1\")\n",
    "    plt.xlabel(\"Energy, eV\")\n",
    "    plt.ylabel(\"Frequency\")\n",
    "\n",
    "    plt.subplot(1, 2, 2)\n",
    "    plt.hist(eigen_energy_2, bins=20, alpha=0.7)\n",
    "    plt.title(\"Distribution of EIGEN_ENERGY_2\")\n",
    "    plt.xlabel(\"Energy, eV\")\n",
    "    plt.ylabel(\"Frequency\")\n",
    "\n",
    "    plt.tight_layout()\n",
    "    plt.show()"
   ],
   "metadata": {
    "collapsed": false,
    "pycharm": {
     "name": "#%%\n"
    }
   },
   "outputs": [],
   "execution_count": null
  },
  {
   "cell_type": "markdown",
   "source": [
    "### Distributin for Datasets"
   ],
   "metadata": {
    "collapsed": false,
    "pycharm": {
     "name": "#%% md\n"
    }
   }
  },
  {
   "cell_type": "code",
   "source": [
    "plot_distribution(train_dataset)\n",
    "plot_distribution(validate_dataset)\n",
    "plot_distribution(evaluate_dataset)"
   ],
   "metadata": {
    "collapsed": false,
    "pycharm": {
     "name": "#%%\n"
    }
   },
   "outputs": [],
   "execution_count": null
  },
  {
   "cell_type": "markdown",
   "source": [
    "## Plot distribution of output Quality Factor"
   ],
   "metadata": {
    "collapsed": false,
    "pycharm": {
     "name": "#%% md\n"
    }
   }
  },
  {
   "cell_type": "code",
   "source": [
    "with open(\"config_DBR.yaml\", 'r') as file:\n",
    "    config = yaml.safe_load(file)\n",
    "\n",
    "args = Namespace(\n",
    "    train=config['runtime']['train'],\n",
    "    predict=config['runtime']['predict'],\n",
    "    load_weights=config['runtime']['load_weights'],\n",
    "\n",
    "    data_path=config['data']['path'],\n",
    "    model_path=config['model']['params_path'],\n",
    "    weight_path=config['model']['weight_path'],\n",
    "\n",
    "    predictions_dir=config['predictions']['directory'],\n",
    "    samples_file=config['predictions']['samples_file'],\n",
    "\n",
    "    batch_size=config['training']['batch_size'],\n",
    "    num_epochs=config['training']['num_epochs'],\n",
    "    learning_rate=config['training']['learning_rate'],\n",
    "    use_scheduler=config['training']['use_scheduler'],\n",
    "    scheduler_factor=config['training']['scheduler_params']['factor'],\n",
    "    scheduler_patience=config['training']['scheduler_params']['patience'],\n",
    "    model_type=\"quality_factor\"\n",
    ")"
   ],
   "metadata": {
    "collapsed": false,
    "pycharm": {
     "name": "#%%\n"
    }
   },
   "outputs": [],
   "execution_count": null
  },
  {
   "cell_type": "code",
   "source": [
    "data = load_data(args.data_path, args.model_type)\n",
    "train_data, evaluate_data = train_test_split(data, test_size=0.1, random_state=42)\n",
    "train_data, validate_data = train_test_split(train_data, test_size=0.1, random_state=42)\n",
    "\n",
    "train_data = process_data(train_data, args.model_path, args.model_type, is_train=True)\n",
    "train_dataset = VCSELDataset(train_data)\n",
    "\n",
    "validate_data = process_data(validate_data, args.model_path, args.model_type, is_validate=True)\n",
    "validate_dataset = VCSELDataset(validate_data)\n",
    "\n",
    "evaluate_data = process_data(evaluate_data, args.model_path, args.model_type, is_test=True)\n",
    "evaluate_dataset = VCSELDataset(evaluate_data)"
   ],
   "metadata": {
    "collapsed": false,
    "pycharm": {
     "name": "#%%\n"
    }
   },
   "outputs": [],
   "execution_count": null
  },
  {
   "cell_type": "code",
   "source": [
    "from src.data.utilities import log_denormalize\n",
    "train_quality_factor = [log_denormalize(output[\"output_tokens\"].item()) for output in train_dataset]\n",
    "\n",
    "validate_quality_factor = [log_denormalize(output[\"output_tokens\"].item()) for output in validate_dataset]\n",
    "\n",
    "evaluate_quality_factor = [log_denormalize(output[\"output_tokens\"].item()) for output in evaluate_dataset]\n",
    "\n",
    "# Combine train, validate и evaluate\n",
    "combined_quality_factor = train_quality_factor + validate_quality_factor + evaluate_quality_factor\n",
    "\n",
    "\n",
    "with open('DBR_quality_factor.txt', 'w') as file1:\n",
    "    for energy in combined_quality_factor:\n",
    "        file1.write(f\"{energy}\\n\")\n"
   ],
   "metadata": {
    "collapsed": false,
    "pycharm": {
     "name": "#%%\n"
    }
   },
   "outputs": [],
   "execution_count": null
  },
  {
   "cell_type": "code",
   "source": [
    "import matplotlib.pyplot as plt\n",
    "%matplotlib inline\n",
    "from src.data.utilities import log_denormalize\n",
    "\n",
    "def plot_distribution(dataset, title):\n",
    "\n",
    "    quality_factor = [log_denormalize(output[\"output_tokens\"].item()) for output in dataset]\n",
    "\n",
    "    plt.figure(figsize=(10, 5))\n",
    "\n",
    "    plt.hist(quality_factor, bins=35, alpha=0.7)\n",
    "    plt.title(f\"Distribution of Quality Factor for {title} dataset\")\n",
    "    plt.xlabel(\"Q\")\n",
    "    plt.ylabel(\"Frequency\")\n"
   ],
   "metadata": {
    "collapsed": false,
    "pycharm": {
     "name": "#%%\n"
    }
   },
   "outputs": [],
   "execution_count": null
  },
  {
   "cell_type": "markdown",
   "source": [
    "### Distributin for datasets"
   ],
   "metadata": {
    "collapsed": false,
    "pycharm": {
     "name": "#%% md\n"
    }
   }
  },
  {
   "cell_type": "code",
   "source": [
    "plot_distribution(train_dataset, \"train\")\n",
    "plot_distribution(validate_dataset, \"validate\")\n",
    "plot_distribution(evaluate_dataset, \"test\")"
   ],
   "metadata": {
    "collapsed": false,
    "pycharm": {
     "name": "#%%\n"
    }
   },
   "outputs": [],
   "execution_count": null
  },
  {
   "cell_type": "code",
   "source": [
    "import matplotlib.pyplot as plt\n",
    "import numpy as np\n",
    "from src.data.utilities import log_denormalize\n",
    "\n",
    "%matplotlib inline\n",
    "\n",
    "def plot_log_distribution(dataset, title):\n",
    "\n",
    "    quality_factor = [log_denormalize(output[\"output_tokens\"].item()) for output in dataset]\n",
    "    log_quality_factor = np.log10(quality_factor)\n",
    "    plt.figure(figsize=(10, 5))\n",
    "    print(min(log_quality_factor))\n",
    "    print(max(log_quality_factor))\n",
    "    plt.hist(log_quality_factor, bins=35, alpha=0.7)\n",
    "    plt.title(f\"Distribution of log of Quality Factor for {title} dataset\")\n",
    "    plt.xlabel(\"Q\")\n",
    "    plt.ylabel(\"Frequency\")"
   ],
   "metadata": {
    "collapsed": false,
    "pycharm": {
     "name": "#%%\n"
    }
   },
   "outputs": [],
   "execution_count": null
  },
  {
   "cell_type": "markdown",
   "source": [
    "### Distributin for log datasets"
   ],
   "metadata": {
    "collapsed": false,
    "pycharm": {
     "name": "#%% md\n"
    }
   }
  },
  {
   "cell_type": "code",
   "source": [
    "plot_log_distribution(train_dataset, \"train\")\n",
    "plot_log_distribution(validate_dataset, \"validate\")\n",
    "plot_log_distribution(evaluate_dataset, \"test\")"
   ],
   "metadata": {
    "collapsed": false,
    "pycharm": {
     "name": "#%%\n"
    }
   },
   "outputs": [],
   "execution_count": null
  },
  {
   "cell_type": "markdown",
   "source": [
    "# VCSEL"
   ],
   "metadata": {
    "collapsed": false,
    "pycharm": {
     "name": "#%% md\n"
    }
   }
  },
  {
   "cell_type": "markdown",
   "source": [
    "## Plot distribution of output energies"
   ],
   "metadata": {
    "collapsed": false,
    "pycharm": {
     "name": "#%% md\n"
    }
   }
  },
  {
   "cell_type": "code",
   "source": [
    "with open(\"config_VCSEL.yaml\", 'r') as file:\n",
    "    config = yaml.safe_load(file)\n",
    "\n",
    "args = Namespace(\n",
    "    train=config['runtime']['train'],\n",
    "    predict=config['runtime']['predict'],\n",
    "    load_weights=config['runtime']['load_weights'],\n",
    "\n",
    "    data_path=config['data']['path'],\n",
    "    model_path=config['model']['params_path'],\n",
    "    weight_path=config['model']['weight_path'],\n",
    "\n",
    "    predictions_dir=config['predictions']['directory'],\n",
    "    samples_file=config['predictions']['samples_file'],\n",
    "\n",
    "    batch_size=config['training']['batch_size'],\n",
    "    num_epochs=config['training']['num_epochs'],\n",
    "    learning_rate=config['training']['learning_rate'],\n",
    "    use_scheduler=config['training']['use_scheduler'],\n",
    "    scheduler_factor=config['training']['scheduler_params']['factor'],\n",
    "    scheduler_patience=config['training']['scheduler_params']['patience'],\n",
    "    model_type=\"eigen_energy\"\n",
    ")"
   ],
   "metadata": {
    "collapsed": false,
    "pycharm": {
     "name": "#%%\n"
    }
   },
   "outputs": [],
   "execution_count": null
  },
  {
   "cell_type": "code",
   "source": [
    "data = load_data(args.data_path, args.model_type)\n",
    "train_data, evaluate_data = train_test_split(data, test_size=0.1, random_state=42)\n",
    "train_data, validate_data = train_test_split(train_data, test_size=0.1, random_state=42)\n",
    "\n",
    "train_data = process_data(train_data, args.model_path, args.model_type, is_train=True)\n",
    "train_dataset = VCSELDataset(train_data)\n",
    "\n",
    "validate_data = process_data(validate_data, args.model_path, args.model_type, is_validate=True)\n",
    "validate_dataset = VCSELDataset(validate_data)\n",
    "\n",
    "evaluate_data = process_data(evaluate_data, args.model_path, args.model_type, is_test=True)\n",
    "evaluate_dataset = VCSELDataset(evaluate_data)"
   ],
   "metadata": {
    "collapsed": false,
    "pycharm": {
     "name": "#%%\n"
    }
   },
   "outputs": [],
   "execution_count": null
  },
  {
   "cell_type": "code",
   "source": [
    "train_eigen_energy_1 = [output[\"output_tokens\"][0].item() * 10 for output in train_dataset]\n",
    "train_eigen_energy_2 = [output[\"output_tokens\"][1].item() * 10 for output in train_dataset]\n",
    "\n",
    "validate_eigen_energy_1 = [output[\"output_tokens\"][0].item() * 10 for output in validate_dataset]\n",
    "validate_eigen_energy_2 = [output[\"output_tokens\"][1].item() * 10 for output in validate_dataset]\n",
    "\n",
    "evaluate_eigen_energy_1 = [output[\"output_tokens\"][0].item() * 10 for output in evaluate_dataset]\n",
    "evaluate_eigen_energy_2 = [output[\"output_tokens\"][1].item() * 10 for output in evaluate_dataset]\n",
    "\n",
    "# Combine train, validate и evaluate\n",
    "combined_eigen_energy_1 = train_eigen_energy_1 + validate_eigen_energy_1 + evaluate_eigen_energy_1\n",
    "combined_eigen_energy_2 = train_eigen_energy_2 + validate_eigen_energy_2 + evaluate_eigen_energy_2\n",
    "\n",
    "with open('VCSEL_eigen_energy_1.txt', 'w') as file1:\n",
    "    for energy in combined_eigen_energy_1:\n",
    "        file1.write(f\"{energy}\\n\")\n",
    "\n",
    "with open('VCSEL_eigen_energy_2.txt', 'w') as file2:\n",
    "    for energy in combined_eigen_energy_2:\n",
    "        file2.write(f\"{energy}\\n\")\n"
   ],
   "metadata": {
    "collapsed": false,
    "pycharm": {
     "name": "#%%\n"
    }
   },
   "outputs": [],
   "execution_count": null
  },
  {
   "cell_type": "code",
   "source": [
    "import matplotlib.pyplot as plt\n",
    "%matplotlib inline\n",
    "\n",
    "def plot_distribution(dataset):\n",
    "\n",
    "    eigen_energy_1 = [output[\"output_tokens\"][0].item() * 10 for output in dataset]\n",
    "    eigen_energy_2 = [output[\"output_tokens\"][1].item() * 10 for output in dataset]\n",
    "\n",
    "    plt.figure(figsize=(10, 5))\n",
    "\n",
    "    plt.subplot(1, 2, 1)\n",
    "    plt.hist(eigen_energy_1, bins=20, alpha=0.7)\n",
    "    plt.title(\"Distribution of EIGEN_ENERGY_1\")\n",
    "    plt.xlabel(\"Energy, eV\")\n",
    "    plt.ylabel(\"Frequency\")\n",
    "\n",
    "    plt.subplot(1, 2, 2)\n",
    "    plt.hist(eigen_energy_2, bins=20, alpha=0.7)\n",
    "    plt.title(\"Distribution of EIGEN_ENERGY_2\")\n",
    "    plt.xlabel(\"Energy, eV\")\n",
    "    plt.ylabel(\"Frequency\")\n",
    "\n",
    "    plt.tight_layout()\n",
    "    plt.show()"
   ],
   "metadata": {
    "collapsed": false,
    "pycharm": {
     "name": "#%%\n"
    }
   },
   "outputs": [],
   "execution_count": null
  },
  {
   "cell_type": "markdown",
   "source": [
    "### Distributin for Datasets"
   ],
   "metadata": {
    "collapsed": false,
    "pycharm": {
     "name": "#%% md\n"
    }
   }
  },
  {
   "cell_type": "code",
   "source": [
    "plot_distribution(train_dataset)\n",
    "plot_distribution(validate_dataset)\n",
    "plot_distribution(evaluate_dataset)"
   ],
   "metadata": {
    "collapsed": false,
    "pycharm": {
     "name": "#%%\n"
    }
   },
   "outputs": [],
   "execution_count": null
  },
  {
   "cell_type": "markdown",
   "source": [
    "## Plot distribution of output Quality Factor"
   ],
   "metadata": {
    "collapsed": false,
    "pycharm": {
     "name": "#%% md\n"
    }
   }
  },
  {
   "cell_type": "code",
   "source": [
    "with open(\"config_VCSEL.yaml\", 'r') as file:\n",
    "    config = yaml.safe_load(file)\n",
    "\n",
    "args = Namespace(\n",
    "    train=config['runtime']['train'],\n",
    "    predict=config['runtime']['predict'],\n",
    "    load_weights=config['runtime']['load_weights'],\n",
    "\n",
    "    data_path=config['data']['path'],\n",
    "    model_path=config['model']['params_path'],\n",
    "    weight_path=config['model']['weight_path'],\n",
    "\n",
    "    predictions_dir=config['predictions']['directory'],\n",
    "    samples_file=config['predictions']['samples_file'],\n",
    "\n",
    "    batch_size=config['training']['batch_size'],\n",
    "    num_epochs=config['training']['num_epochs'],\n",
    "    learning_rate=config['training']['learning_rate'],\n",
    "    use_scheduler=config['training']['use_scheduler'],\n",
    "    scheduler_factor=config['training']['scheduler_params']['factor'],\n",
    "    scheduler_patience=config['training']['scheduler_params']['patience'],\n",
    "    model_type=\"quality_factor\"\n",
    ")"
   ],
   "metadata": {
    "collapsed": false,
    "pycharm": {
     "name": "#%%\n"
    }
   },
   "outputs": [],
   "execution_count": null
  },
  {
   "cell_type": "code",
   "source": [
    "data = load_data(args.data_path, args.model_type)\n",
    "train_data, evaluate_data = train_test_split(data, test_size=0.1, random_state=42)\n",
    "train_data, validate_data = train_test_split(train_data, test_size=0.1, random_state=42)\n",
    "\n",
    "train_data = process_data(train_data, args.model_path, args.model_type, is_train=True)\n",
    "train_dataset = VCSELDataset(train_data)\n",
    "\n",
    "validate_data = process_data(validate_data, args.model_path, args.model_type, is_validate=True)\n",
    "validate_dataset = VCSELDataset(validate_data)\n",
    "\n",
    "evaluate_data = process_data(evaluate_data, args.model_path, args.model_type, is_test=True)\n",
    "evaluate_dataset = VCSELDataset(evaluate_data)"
   ],
   "metadata": {
    "collapsed": false,
    "pycharm": {
     "name": "#%%\n"
    }
   },
   "outputs": [],
   "execution_count": null
  },
  {
   "cell_type": "code",
   "source": [
    "from src.data.utilities import log_denormalize\n",
    "train_quality_factor = [log_denormalize(output[\"output_tokens\"].item()) for output in train_dataset]\n",
    "\n",
    "validate_quality_factor = [log_denormalize(output[\"output_tokens\"].item()) for output in validate_dataset]\n",
    "\n",
    "evaluate_quality_factor = [log_denormalize(output[\"output_tokens\"].item()) for output in evaluate_dataset]\n",
    "\n",
    "# Combine train, validate и evaluate\n",
    "combined_quality_factor = train_quality_factor + validate_quality_factor + evaluate_quality_factor\n",
    "\n",
    "\n",
    "with open('VCSEL_quality_factor.txt', 'w') as file1:\n",
    "    for energy in combined_quality_factor:\n",
    "        file1.write(f\"{energy}\\n\")"
   ],
   "metadata": {
    "collapsed": false,
    "pycharm": {
     "name": "#%%\n"
    }
   },
   "outputs": [],
   "execution_count": null
  },
  {
   "cell_type": "code",
   "source": [
    "import matplotlib.pyplot as plt\n",
    "%matplotlib inline\n",
    "from src.data.utilities import log_denormalize\n",
    "\n",
    "def plot_distribution(dataset, title):\n",
    "\n",
    "    quality_factor = [log_denormalize(output[\"output_tokens\"].item()) for output in dataset]\n",
    "\n",
    "    plt.figure(figsize=(10, 5))\n",
    "\n",
    "    plt.hist(quality_factor, bins=35, alpha=0.7)\n",
    "    plt.title(f\"Distribution of Quality Factor for {title} dataset\")\n",
    "    plt.xlabel(\"Q\")\n",
    "    plt.ylabel(\"Frequency\")\n"
   ],
   "metadata": {
    "collapsed": false,
    "pycharm": {
     "name": "#%%\n"
    }
   },
   "outputs": [],
   "execution_count": null
  },
  {
   "cell_type": "markdown",
   "source": [
    "### Distributin for datasets"
   ],
   "metadata": {
    "collapsed": false,
    "pycharm": {
     "name": "#%% md\n"
    }
   }
  },
  {
   "cell_type": "code",
   "source": [
    "plot_distribution(train_dataset, \"train\")\n",
    "plot_distribution(validate_dataset, \"validate\")\n",
    "plot_distribution(evaluate_dataset, \"test\")"
   ],
   "metadata": {
    "collapsed": false,
    "pycharm": {
     "name": "#%%\n"
    }
   },
   "outputs": [],
   "execution_count": null
  },
  {
   "cell_type": "code",
   "source": [
    "import matplotlib.pyplot as plt\n",
    "import numpy as np\n",
    "from src.data.utilities import log_denormalize\n",
    "\n",
    "%matplotlib inline\n",
    "\n",
    "def plot_log_distribution(dataset, title):\n",
    "\n",
    "    quality_factor = [log_denormalize(output[\"output_tokens\"].item()) for output in dataset]\n",
    "    log_quality_factor = np.log10(quality_factor)\n",
    "    plt.figure(figsize=(10, 5))\n",
    "    print(min(log_quality_factor))\n",
    "    print(max(log_quality_factor))\n",
    "    plt.hist(log_quality_factor, bins=35, alpha=0.7)\n",
    "    plt.title(f\"Distribution of log of Quality Factor for {title} dataset\")\n",
    "    plt.xlabel(\"Q\")\n",
    "    plt.ylabel(\"Frequency\")"
   ],
   "metadata": {
    "collapsed": false,
    "pycharm": {
     "name": "#%%\n"
    }
   },
   "outputs": [],
   "execution_count": null
  },
  {
   "cell_type": "markdown",
   "source": [
    "### Distributin for log datasets"
   ],
   "metadata": {
    "collapsed": false,
    "pycharm": {
     "name": "#%% md\n"
    }
   }
  },
  {
   "cell_type": "code",
   "source": [
    "plot_log_distribution(train_dataset, \"train\")\n",
    "plot_log_distribution(validate_dataset, \"validate\")\n",
    "plot_log_distribution(evaluate_dataset, \"test\")"
   ],
   "metadata": {
    "collapsed": false,
    "pycharm": {
     "name": "#%%\n"
    }
   },
   "outputs": [],
   "execution_count": null
  },
  {
   "cell_type": "markdown",
   "source": [
    "# Plot distribution of output Threshold Material Gain"
   ],
   "metadata": {
    "collapsed": false,
    "pycharm": {
     "name": "#%% md\n"
    }
   }
  },
  {
   "cell_type": "code",
   "source": [
    "with open(\"config_VCSEL.yaml\", 'r') as file:\n",
    "    config = yaml.safe_load(file)\n",
    "\n",
    "args = Namespace(\n",
    "    train=config['runtime']['train'],\n",
    "    predict=config['runtime']['predict'],\n",
    "    load_weights=config['runtime']['load_weights'],\n",
    "\n",
    "    data_path=config['data']['path'],\n",
    "    model_path=config['model']['params_path'],\n",
    "    weight_path=config['model']['weight_path'],\n",
    "\n",
    "    predictions_dir=config['predictions']['directory'],\n",
    "    samples_file=config['predictions']['samples_file'],\n",
    "\n",
    "    batch_size=config['training']['batch_size'],\n",
    "    num_epochs=config['training']['num_epochs'],\n",
    "    learning_rate=config['training']['learning_rate'],\n",
    "    use_scheduler=config['training']['use_scheduler'],\n",
    "    scheduler_factor=config['training']['scheduler_params']['factor'],\n",
    "    scheduler_patience=config['training']['scheduler_params']['patience'],\n",
    "    model_type=\"threshold_material_gain\"\n",
    ")"
   ],
   "metadata": {
    "collapsed": false,
    "pycharm": {
     "name": "#%%\n"
    }
   },
   "outputs": [],
   "execution_count": null
  },
  {
   "cell_type": "code",
   "source": [
    "data = load_data(args.data_path, args.model_type)\n",
    "train_data, evaluate_data = train_test_split(data, test_size=0.1, random_state=42)\n",
    "train_data, validate_data = train_test_split(train_data, test_size=0.1, random_state=42)\n",
    "\n",
    "train_data = process_data(train_data, args.model_path, args.model_type, is_train=True)\n",
    "train_dataset = VCSELDataset(train_data)\n",
    "\n",
    "validate_data = process_data(validate_data, args.model_path, args.model_type, is_validate=True)\n",
    "validate_dataset = VCSELDataset(validate_data)\n",
    "\n",
    "evaluate_data = process_data(evaluate_data, args.model_path, args.model_type, is_test=True)\n",
    "evaluate_dataset = VCSELDataset(evaluate_data)"
   ],
   "metadata": {
    "collapsed": false,
    "pycharm": {
     "name": "#%%\n"
    }
   },
   "outputs": [],
   "execution_count": null
  },
  {
   "cell_type": "code",
   "source": [
    "from src.data.utilities import convert_k_to_gain\n",
    "\n",
    "train_eigen_energy_1 = [output[\"output_tokens\"][0].item() * 10 for output in train_dataset]\n",
    "train_k = [output[\"output_tokens\"][1].item() for output in train_dataset]\n",
    "train_gain = [-1*convert_k_to_gain(e, k_val) for e, k_val in zip(train_eigen_energy_1, train_k)]\n",
    "\n",
    "validate_eigen_energy_1 = [output[\"output_tokens\"][0].item() * 10 for output in validate_dataset]\n",
    "validate_k = [output[\"output_tokens\"][1].item() for output in validate_dataset]\n",
    "validate_gain = [-1*convert_k_to_gain(e, k_val) for e, k_val in zip(validate_eigen_energy_1, validate_k)]\n",
    "\n",
    "evaluate_eigen_energy_1 = [output[\"output_tokens\"][0].item() * 10 for output in evaluate_dataset]\n",
    "evaluate_k = [output[\"output_tokens\"][1].item() for output in evaluate_dataset]\n",
    "evaluate_gain = [-1*convert_k_to_gain(e, k_val) for e, k_val in zip(evaluate_eigen_energy_1, evaluate_k)]\n",
    "\n",
    "# Combine train, validate и evaluate\n",
    "combined_eigen_energy_1 = train_eigen_energy_1 + validate_eigen_energy_1 + evaluate_eigen_energy_1\n",
    "combined_gain = train_gain + validate_gain + evaluate_gain\n",
    "\n",
    "with open('VCSEL_eigen_energy.txt', 'w') as file1:\n",
    "    for energy in combined_eigen_energy_1:\n",
    "        file1.write(f\"{energy}\\n\")\n",
    "\n",
    "with open('VCSEL_gain.txt', 'w') as file2:\n",
    "    for energy in combined_gain:\n",
    "        file2.write(f\"{energy}\\n\")"
   ],
   "metadata": {
    "collapsed": false,
    "pycharm": {
     "name": "#%%\n"
    }
   },
   "outputs": [],
   "execution_count": null
  },
  {
   "cell_type": "code",
   "source": [
    "import matplotlib.pyplot as plt\n",
    "%matplotlib inline\n",
    "\n",
    "def plot_distribution(dataset, title):\n",
    "\n",
    "    eigen_energy_1 = [output[\"output_tokens\"][0].item() * 10 for output in dataset]\n",
    "    k = [output[\"output_tokens\"][1].item() for output in dataset]\n",
    "\n",
    "    plt.figure(figsize=(10, 5))\n",
    "\n",
    "    plt.subplot(1, 2, 1)\n",
    "    plt.hist(eigen_energy_1, bins=20, alpha=0.7)\n",
    "    plt.title(\"Distribution of Energy\")\n",
    "    plt.xlabel(\"Energy, eV\")\n",
    "    plt.ylabel(\"Frequency\")\n",
    "\n",
    "    plt.subplot(1, 2, 2)\n",
    "    plt.hist(k, bins=50, alpha=0.7)\n",
    "    plt.title(f\"Distribution of Threshold Material Gain for {title} dataset\")\n",
    "    plt.xlabel(\"k\")\n",
    "    plt.ylabel(\"Frequency\")\n",
    "    #plt.xlim(0, 0.015)\n",
    "    plt.tight_layout()\n",
    "    plt.show()\n"
   ],
   "metadata": {
    "collapsed": false,
    "pycharm": {
     "name": "#%%\n"
    }
   },
   "outputs": [],
   "execution_count": null
  },
  {
   "cell_type": "markdown",
   "source": [
    "### Distributin for datasets"
   ],
   "metadata": {
    "collapsed": false,
    "pycharm": {
     "name": "#%% md\n"
    }
   }
  },
  {
   "cell_type": "code",
   "source": [
    "plot_distribution(train_dataset, \"train\")\n",
    "plot_distribution(validate_dataset, \"validate\")\n",
    "plot_distribution(evaluate_dataset, \"test\")"
   ],
   "metadata": {
    "collapsed": false,
    "pycharm": {
     "name": "#%%\n"
    }
   },
   "outputs": [],
   "execution_count": null
  },
  {
   "cell_type": "markdown",
   "source": [
    "### Distributin for datasets for gain in sm^-1"
   ],
   "metadata": {
    "collapsed": false,
    "pycharm": {
     "name": "#%% md\n"
    }
   }
  },
  {
   "cell_type": "code",
   "source": [
    "import matplotlib.pyplot as plt\n",
    "from src.data.utilities import convert_k_to_gain\n",
    "%matplotlib inline\n",
    "\n",
    "\n",
    "def plot_distribution_gain_case(dataset, title):\n",
    "\n",
    "    eigen_energy_1 = [output[\"output_tokens\"][0].item() * 10 for output in dataset]\n",
    "    k = [output[\"output_tokens\"][1].item() for output in dataset]\n",
    "    gain = [-1*convert_k_to_gain(e, k_val) for e, k_val in zip(eigen_energy_1, k)]\n",
    "\n",
    "    plt.figure(figsize=(10, 5))\n",
    "\n",
    "    plt.subplot(1, 2, 1)\n",
    "    plt.hist(eigen_energy_1, bins=20, alpha=0.7)\n",
    "    plt.title(\"Distribution of Energy\")\n",
    "    plt.xlabel(\"Energy, eV\")\n",
    "    plt.ylabel(\"Frequency\")\n",
    "\n",
    "    plt.subplot(1, 2, 2)\n",
    "    plt.hist(gain, bins=50, alpha=0.7)\n",
    "    plt.title(f\"Distribution of Threshold Material Gain for {title} dataset\")\n",
    "    plt.xlabel(\"Gain, $cm^{-1}$\")\n",
    "    plt.ylabel(\"Frequency\")\n",
    "    #plt.xlim(0, 2000)\n",
    "    plt.tight_layout()\n",
    "    plt.show()\n",
    "\n"
   ],
   "metadata": {
    "collapsed": false,
    "pycharm": {
     "name": "#%%\n"
    }
   },
   "outputs": [],
   "execution_count": null
  },
  {
   "cell_type": "markdown",
   "source": [
    "### Distributin for datasets"
   ],
   "metadata": {
    "collapsed": false,
    "pycharm": {
     "name": "#%% md\n"
    }
   }
  },
  {
   "cell_type": "code",
   "source": [
    "plot_distribution_gain_case(train_dataset, \"train\")\n",
    "plot_distribution_gain_case(validate_dataset, \"validate\")\n",
    "plot_distribution_gain_case(evaluate_dataset, \"test\")"
   ],
   "metadata": {
    "collapsed": false,
    "pycharm": {
     "name": "#%%\n"
    }
   },
   "outputs": [],
   "execution_count": null
  },
  {
   "cell_type": "markdown",
   "source": [
    "# ALL"
   ],
   "metadata": {
    "collapsed": false,
    "pycharm": {
     "name": "#%% md\n"
    }
   }
  },
  {
   "cell_type": "markdown",
   "source": [
    "## Plot distribution of output energies"
   ],
   "metadata": {
    "collapsed": false,
    "pycharm": {
     "name": "#%% md\n"
    }
   }
  },
  {
   "cell_type": "code",
   "source": [
    "with open(\"config.yaml\", 'r') as file:\n",
    "    config = yaml.safe_load(file)\n",
    "\n",
    "args = Namespace(\n",
    "    train=config['runtime']['train'],\n",
    "    predict=config['runtime']['predict'],\n",
    "    load_weights=config['runtime']['load_weights'],\n",
    "\n",
    "    data_path=config['data']['path'],\n",
    "    model_path=config['model']['params_path'],\n",
    "    weight_path=config['model']['weight_path'],\n",
    "\n",
    "    predictions_dir=config['predictions']['directory'],\n",
    "    samples_file=config['predictions']['samples_file'],\n",
    "\n",
    "    batch_size=config['training']['batch_size'],\n",
    "    num_epochs=config['training']['num_epochs'],\n",
    "    learning_rate=config['training']['learning_rate'],\n",
    "    use_scheduler=config['training']['use_scheduler'],\n",
    "    scheduler_factor=config['training']['scheduler_params']['factor'],\n",
    "    scheduler_patience=config['training']['scheduler_params']['patience'],\n",
    "    model_type=\"eigen_energy\"\n",
    ")"
   ],
   "metadata": {
    "collapsed": false,
    "pycharm": {
     "name": "#%%\n"
    }
   },
   "outputs": [],
   "execution_count": null
  },
  {
   "cell_type": "code",
   "source": [
    "data = load_data(args.data_path, args.model_type)\n",
    "train_data, evaluate_data = train_test_split(data, test_size=0.1, random_state=42)\n",
    "train_data, validate_data = train_test_split(train_data, test_size=0.1, random_state=42)\n",
    "\n",
    "train_data = process_data(train_data, args.model_path, args.model_type, is_train=True)\n",
    "train_dataset = VCSELDataset(train_data)\n",
    "\n",
    "validate_data = process_data(validate_data, args.model_path, args.model_type, is_validate=True)\n",
    "validate_dataset = VCSELDataset(validate_data)\n",
    "\n",
    "evaluate_data = process_data(evaluate_data, args.model_path, args.model_type, is_test=True)\n",
    "evaluate_dataset = VCSELDataset(evaluate_data)"
   ],
   "metadata": {
    "collapsed": false,
    "pycharm": {
     "name": "#%%\n"
    }
   },
   "outputs": [],
   "execution_count": null
  },
  {
   "cell_type": "code",
   "source": [
    "import matplotlib.pyplot as plt\n",
    "%matplotlib inline\n",
    "\n",
    "def plot_distribution(dataset):\n",
    "\n",
    "    eigen_energy_1 = [output[\"output_tokens\"][0].item() * 10 for output in dataset]\n",
    "    eigen_energy_2 = [output[\"output_tokens\"][1].item() * 10 for output in dataset]\n",
    "\n",
    "    plt.figure(figsize=(10, 5))\n",
    "\n",
    "    plt.subplot(1, 2, 1)\n",
    "    plt.hist(eigen_energy_1, bins=20, alpha=0.7)\n",
    "    plt.title(\"Distribution of EIGEN_ENERGY_1\")\n",
    "    plt.xlabel(\"Energy, eV\")\n",
    "    plt.ylabel(\"Frequency\")\n",
    "\n",
    "    plt.subplot(1, 2, 2)\n",
    "    plt.hist(eigen_energy_2, bins=20, alpha=0.7)\n",
    "    plt.title(\"Distribution of EIGEN_ENERGY_2\")\n",
    "    plt.xlabel(\"Energy, eV\")\n",
    "    plt.ylabel(\"Frequency\")\n",
    "\n",
    "    plt.tight_layout()\n",
    "    plt.show()"
   ],
   "metadata": {
    "collapsed": false,
    "pycharm": {
     "name": "#%%\n"
    }
   },
   "outputs": [],
   "execution_count": null
  },
  {
   "cell_type": "markdown",
   "source": [
    "### Distributin for Datasets"
   ],
   "metadata": {
    "collapsed": false,
    "pycharm": {
     "name": "#%% md\n"
    }
   }
  },
  {
   "cell_type": "code",
   "source": [
    "plot_distribution(train_dataset)\n",
    "plot_distribution(validate_dataset)\n",
    "plot_distribution(evaluate_dataset)"
   ],
   "metadata": {
    "collapsed": false,
    "pycharm": {
     "name": "#%%\n"
    }
   },
   "outputs": [],
   "execution_count": null
  },
  {
   "cell_type": "markdown",
   "source": [
    "## Plot distribution of output Quality Factor"
   ],
   "metadata": {
    "collapsed": false,
    "pycharm": {
     "name": "#%% md\n"
    }
   }
  },
  {
   "cell_type": "code",
   "source": [
    "with open(\"config.yaml\", 'r') as file:\n",
    "    config = yaml.safe_load(file)\n",
    "\n",
    "args = Namespace(\n",
    "    train=config['runtime']['train'],\n",
    "    predict=config['runtime']['predict'],\n",
    "    load_weights=config['runtime']['load_weights'],\n",
    "\n",
    "    data_path=config['data']['path'],\n",
    "    model_path=config['model']['params_path'],\n",
    "    weight_path=config['model']['weight_path'],\n",
    "\n",
    "    predictions_dir=config['predictions']['directory'],\n",
    "    samples_file=config['predictions']['samples_file'],\n",
    "\n",
    "    batch_size=config['training']['batch_size'],\n",
    "    num_epochs=config['training']['num_epochs'],\n",
    "    learning_rate=config['training']['learning_rate'],\n",
    "    use_scheduler=config['training']['use_scheduler'],\n",
    "    scheduler_factor=config['training']['scheduler_params']['factor'],\n",
    "    scheduler_patience=config['training']['scheduler_params']['patience'],\n",
    "    model_type=\"quality_factor\"\n",
    ")"
   ],
   "metadata": {
    "collapsed": false,
    "pycharm": {
     "name": "#%%\n"
    }
   },
   "outputs": [],
   "execution_count": null
  },
  {
   "cell_type": "code",
   "source": [
    "data = load_data(args.data_path, args.model_type)\n",
    "train_data, evaluate_data = train_test_split(data, test_size=0.1, random_state=42)\n",
    "train_data, validate_data = train_test_split(train_data, test_size=0.1, random_state=42)\n",
    "\n",
    "train_data = process_data(train_data, args.model_path, args.model_type, is_train=True)\n",
    "train_dataset = VCSELDataset(train_data)\n",
    "\n",
    "validate_data = process_data(validate_data, args.model_path, args.model_type, is_validate=True)\n",
    "validate_dataset = VCSELDataset(validate_data)\n",
    "\n",
    "evaluate_data = process_data(evaluate_data, args.model_path, args.model_type, is_test=True)\n",
    "evaluate_dataset = VCSELDataset(evaluate_data)"
   ],
   "metadata": {
    "collapsed": false,
    "pycharm": {
     "name": "#%%\n"
    }
   },
   "outputs": [],
   "execution_count": null
  },
  {
   "cell_type": "code",
   "source": [
    "import matplotlib.pyplot as plt\n",
    "%matplotlib inline\n",
    "from src.data.utilities import log_denormalize\n",
    "\n",
    "def plot_distribution(dataset, title):\n",
    "\n",
    "    quality_factor = [log_denormalize(output[\"output_tokens\"].item()) for output in dataset]\n",
    "\n",
    "    plt.figure(figsize=(10, 5))\n",
    "\n",
    "    plt.hist(quality_factor, bins=35, alpha=0.7)\n",
    "    plt.title(f\"Distribution of Quality Factor for {title} dataset\")\n",
    "    plt.xlabel(\"Q\")\n",
    "    plt.ylabel(\"Frequency\")\n"
   ],
   "metadata": {
    "collapsed": false,
    "pycharm": {
     "name": "#%%\n"
    }
   },
   "outputs": [],
   "execution_count": null
  },
  {
   "cell_type": "markdown",
   "source": [
    "### Distributin for datasets"
   ],
   "metadata": {
    "collapsed": false,
    "pycharm": {
     "name": "#%% md\n"
    }
   }
  },
  {
   "cell_type": "code",
   "source": [
    "plot_distribution(train_dataset, \"train\")\n",
    "plot_distribution(validate_dataset, \"validate\")\n",
    "plot_distribution(evaluate_dataset, \"test\")"
   ],
   "metadata": {
    "collapsed": false,
    "pycharm": {
     "name": "#%%\n"
    }
   },
   "outputs": [],
   "execution_count": null
  },
  {
   "cell_type": "code",
   "source": [
    "import matplotlib.pyplot as plt\n",
    "import numpy as np\n",
    "from src.data.utilities import log_denormalize\n",
    "\n",
    "%matplotlib inline\n",
    "\n",
    "def plot_log_distribution(dataset, title):\n",
    "\n",
    "    quality_factor = [log_denormalize(output[\"output_tokens\"].item()) for output in dataset]\n",
    "    log_quality_factor = np.log10(quality_factor)\n",
    "    plt.figure(figsize=(10, 5))\n",
    "    print(min(log_quality_factor))\n",
    "    print(max(log_quality_factor))\n",
    "    plt.hist(log_quality_factor, bins=35, alpha=0.7)\n",
    "    plt.title(f\"Distribution of log of Quality Factor for {title} dataset\")\n",
    "    plt.xlabel(\"Q\")\n",
    "    plt.ylabel(\"Frequency\")"
   ],
   "metadata": {
    "collapsed": false,
    "pycharm": {
     "name": "#%%\n"
    }
   },
   "outputs": [],
   "execution_count": null
  },
  {
   "cell_type": "markdown",
   "source": [
    "### Distributin for log datasets"
   ],
   "metadata": {
    "collapsed": false,
    "pycharm": {
     "name": "#%% md\n"
    }
   }
  },
  {
   "cell_type": "code",
   "source": [
    "plot_log_distribution(train_dataset, \"train\")\n",
    "plot_log_distribution(validate_dataset, \"validate\")\n",
    "plot_log_distribution(evaluate_dataset, \"test\")"
   ],
   "metadata": {
    "collapsed": false,
    "pycharm": {
     "name": "#%%\n"
    }
   },
   "outputs": [],
   "execution_count": null
  },
  {
   "cell_type": "markdown",
   "source": [
    "# Plot distribution of output Threshold Material Gain"
   ],
   "metadata": {
    "collapsed": false,
    "pycharm": {
     "name": "#%% md\n"
    }
   }
  },
  {
   "cell_type": "code",
   "source": [
    "with open(\"config_ALL.yaml\", 'r') as file:\n",
    "    config = yaml.safe_load(file)\n",
    "\n",
    "args = Namespace(\n",
    "    train=config['runtime']['train'],\n",
    "    predict=config['runtime']['predict'],\n",
    "    load_weights=config['runtime']['load_weights'],\n",
    "\n",
    "    data_path=config['data']['path'],\n",
    "    model_path=config['model']['params_path'],\n",
    "    weight_path=config['model']['weight_path'],\n",
    "\n",
    "    predictions_dir=config['predictions']['directory'],\n",
    "    samples_file=config['predictions']['samples_file'],\n",
    "\n",
    "    batch_size=config['training']['batch_size'],\n",
    "    num_epochs=config['training']['num_epochs'],\n",
    "    learning_rate=config['training']['learning_rate'],\n",
    "    use_scheduler=config['training']['use_scheduler'],\n",
    "    scheduler_factor=config['training']['scheduler_params']['factor'],\n",
    "    scheduler_patience=config['training']['scheduler_params']['patience'],\n",
    "    model_type=\"threshold_material_gain\"\n",
    ")"
   ],
   "metadata": {
    "collapsed": false,
    "pycharm": {
     "name": "#%%\n"
    }
   },
   "outputs": [],
   "execution_count": null
  },
  {
   "cell_type": "code",
   "source": [
    "data = load_data(args.data_path, args.model_type)\n",
    "train_data, evaluate_data = train_test_split(data, test_size=0.1, random_state=42)\n",
    "train_data, validate_data = train_test_split(train_data, test_size=0.1, random_state=42)\n",
    "\n",
    "train_data = process_data(train_data, args.model_path, args.model_type, is_train=True)\n",
    "train_dataset = VCSELDataset(train_data)\n",
    "\n",
    "validate_data = process_data(validate_data, args.model_path, args.model_type, is_validate=True)\n",
    "validate_dataset = VCSELDataset(validate_data)\n",
    "\n",
    "evaluate_data = process_data(evaluate_data, args.model_path, args.model_type, is_test=True)\n",
    "evaluate_dataset = VCSELDataset(evaluate_data)"
   ],
   "metadata": {
    "collapsed": false,
    "pycharm": {
     "name": "#%%\n"
    }
   },
   "outputs": [],
   "execution_count": null
  },
  {
   "cell_type": "code",
   "source": [
    "import matplotlib.pyplot as plt\n",
    "%matplotlib inline\n",
    "\n",
    "def plot_distribution(dataset, title):\n",
    "\n",
    "    eigen_energy_1 = [output[\"output_tokens\"][0].item() * 10 for output in dataset]\n",
    "    k = [output[\"output_tokens\"][1].item() for output in dataset]\n",
    "\n",
    "    plt.figure(figsize=(10, 5))\n",
    "\n",
    "    plt.subplot(1, 2, 1)\n",
    "    plt.hist(eigen_energy_1, bins=20, alpha=0.7)\n",
    "    plt.title(\"Distribution of Energy\")\n",
    "    plt.xlabel(\"Energy, eV\")\n",
    "    plt.ylabel(\"Frequency\")\n",
    "\n",
    "    plt.subplot(1, 2, 2)\n",
    "    plt.hist(k, bins=20, alpha=0.7)\n",
    "    plt.title(f\"Distribution of Threshold Material Gain for {title} dataset\")\n",
    "    plt.xlabel(\"k\")\n",
    "    plt.ylabel(\"Frequency\")\n",
    "    #plt.xlim(0, 0.015)\n",
    "    plt.tight_layout()\n",
    "    plt.show()\n"
   ],
   "metadata": {
    "collapsed": false,
    "pycharm": {
     "name": "#%%\n"
    }
   },
   "outputs": [],
   "execution_count": null
  },
  {
   "cell_type": "markdown",
   "source": [
    "### Distributin for datasets"
   ],
   "metadata": {
    "collapsed": false,
    "pycharm": {
     "name": "#%% md\n"
    }
   }
  },
  {
   "cell_type": "code",
   "source": [
    "plot_distribution(train_dataset, \"train\")\n",
    "plot_distribution(validate_dataset, \"validate\")\n",
    "plot_distribution(evaluate_dataset, \"test\")"
   ],
   "metadata": {
    "collapsed": false,
    "pycharm": {
     "name": "#%%\n"
    }
   },
   "outputs": [],
   "execution_count": null
  },
  {
   "cell_type": "markdown",
   "source": [
    "### Distributin for datasets for gain in sm^-1"
   ],
   "metadata": {
    "collapsed": false,
    "pycharm": {
     "name": "#%% md\n"
    }
   }
  },
  {
   "cell_type": "code",
   "source": [
    "import matplotlib.pyplot as plt\n",
    "from src.data.utilities import convert_k_to_gain\n",
    "%matplotlib inline\n",
    "\n",
    "\n",
    "def plot_distribution_gain_case(dataset, title):\n",
    "\n",
    "    eigen_energy_1 = [output[\"output_tokens\"][0].item() * 10 for output in dataset]\n",
    "    k = [output[\"output_tokens\"][1].item() for output in dataset]\n",
    "    gain = [-1*convert_k_to_gain(e, k_val) for e, k_val in zip(eigen_energy_1, k)]\n",
    "\n",
    "    plt.figure(figsize=(10, 5))\n",
    "\n",
    "    plt.subplot(1, 2, 1)\n",
    "    plt.hist(eigen_energy_1, bins=20, alpha=0.7)\n",
    "    plt.title(\"Distribution of Energy\")\n",
    "    plt.xlabel(\"Energy, eV\")\n",
    "    plt.ylabel(\"Frequency\")\n",
    "\n",
    "    plt.subplot(1, 2, 2)\n",
    "    plt.hist(gain, bins=20, alpha=0.7)\n",
    "    plt.title(f\"Distribution of Threshold Material Gain for {title} dataset\")\n",
    "    plt.xlabel(\"Gain, $cm^{-1}$\")\n",
    "    plt.ylabel(\"Frequency\")\n",
    "    #plt.xlim(0, 2000)\n",
    "    plt.tight_layout()\n",
    "    plt.show()\n",
    "\n"
   ],
   "metadata": {
    "collapsed": false,
    "pycharm": {
     "name": "#%%\n"
    }
   },
   "outputs": [],
   "execution_count": null
  },
  {
   "cell_type": "markdown",
   "source": [
    "### Distributin for datasets"
   ],
   "metadata": {
    "collapsed": false,
    "pycharm": {
     "name": "#%% md\n"
    }
   }
  },
  {
   "cell_type": "code",
   "source": [
    "plot_distribution_gain_case(train_dataset, \"train\")\n",
    "plot_distribution_gain_case(validate_dataset, \"validate\")\n",
    "plot_distribution_gain_case(evaluate_dataset, \"test\")"
   ],
   "metadata": {
    "collapsed": false,
    "pycharm": {
     "name": "#%%\n"
    }
   },
   "outputs": [],
   "execution_count": null
  },
  {
   "cell_type": "code",
   "source": [],
   "metadata": {
    "collapsed": false,
    "pycharm": {
     "name": "#%%\n"
    }
   },
   "outputs": [],
   "execution_count": null
  }
 ],
 "metadata": {
  "kernelspec": {
   "display_name": "Python 3",
   "language": "python",
   "name": "python3"
  },
  "language_info": {
   "codemirror_mode": {
    "name": "ipython",
    "version": 2
   },
   "file_extension": ".py",
   "mimetype": "text/x-python",
   "name": "python",
   "nbconvert_exporter": "python",
   "pygments_lexer": "ipython2",
   "version": "2.7.6"
  }
 },
 "nbformat": 4,
 "nbformat_minor": 0
}
